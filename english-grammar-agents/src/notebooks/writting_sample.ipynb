{
 "cells": [
  {
   "cell_type": "markdown",
   "metadata": {},
   "source": [
    "# Writting Examples\n",
    "## This notebook showcases the following examples:\n",
    "    - Writting properly.\n",
    "    - Writting checking only grammar.\n",
    "\n",
    "Note: before executing this notebook set the OPENAI_API_KEY variable in the envs/debugg.env file"
   ]
  },
  {
   "cell_type": "code",
   "execution_count": 16,
   "metadata": {},
   "outputs": [
    {
     "name": "stdout",
     "output_type": "stream",
     "text": [
      "gpt-4\n"
     ]
    }
   ],
   "source": [
    "import os, sys\n",
    "from dotenv import load_dotenv\n",
    "\n",
    "sys.path.append(os.path.join(os.getcwd(), '..'))\n",
    "\n",
    "load_dotenv('../envs/debug.env')\n",
    "\n",
    "# Import the service that implements both cases.\n",
    "from services.writting import writte_grammar_only, writte_properly"
   ]
  },
  {
   "cell_type": "markdown",
   "metadata": {},
   "source": [
    "# Create the example\n",
    "Note that there are spelling errors like \"Yesturday\" and grammar errors as well."
   ]
  },
  {
   "cell_type": "code",
   "execution_count": 19,
   "metadata": {},
   "outputs": [
    {
     "data": {
      "text/plain": [
       "'\\nYesturday, I goes to the store to byed some opples, but they was all out.\\n'"
      ]
     },
     "execution_count": 19,
     "metadata": {},
     "output_type": "execute_result"
    }
   ],
   "source": [
    "# create an input example\n",
    "message = \"\"\"\n",
    "Yesturday, I goes to the store to byed some opples, but they was all out.\n",
    "\"\"\"\n",
    "\n",
    "message"
   ]
  },
  {
   "cell_type": "markdown",
   "metadata": {},
   "source": [
    "# Writting properly showcase"
   ]
  },
  {
   "cell_type": "code",
   "execution_count": 17,
   "metadata": {},
   "outputs": [
    {
     "name": "stderr",
     "output_type": "stream",
     "text": [
      "INFO:root:Start process writte properly.\n",
      "INFO:root:End process writte properly.\n"
     ]
    },
    {
     "name": "stdout",
     "output_type": "stream",
     "text": [
      "write_propperly: Yesterday, I went to the store to buy some apples, but they were all out.\n"
     ]
    }
   ],
   "source": [
    "result = writte_properly(message=message)\n",
    "\n",
    "print(f\"write_propperly: {result}\")"
   ]
  },
  {
   "cell_type": "markdown",
   "metadata": {},
   "source": [
    "In the previous example we can see that the initial sentence was succesfuly corrected entirely."
   ]
  },
  {
   "cell_type": "markdown",
   "metadata": {},
   "source": [
    "# Writting only grammar showcase"
   ]
  },
  {
   "cell_type": "code",
   "execution_count": 18,
   "metadata": {},
   "outputs": [
    {
     "name": "stderr",
     "output_type": "stream",
     "text": [
      "INFO:root:Start process writte only grammar.\n",
      "INFO:root:End process writte only grammar.\n"
     ]
    },
    {
     "name": "stdout",
     "output_type": "stream",
     "text": [
      "writte_grammar_only: Yesturday, I went to the store to buy some opples, but they were all out.\n"
     ]
    }
   ],
   "source": [
    "result = writte_grammar_only(message=message)\n",
    "\n",
    "print(f\"writte_grammar_only: {result}\")"
   ]
  },
  {
   "cell_type": "markdown",
   "metadata": {},
   "source": [
    "As shown in the previous example only the grammar issues were corrected yet the spelling of \"Yesterday\" is still incorrect showing \"Yesturday\"."
   ]
  }
 ],
 "metadata": {
  "kernelspec": {
   "display_name": "venv",
   "language": "python",
   "name": "python3"
  },
  "language_info": {
   "codemirror_mode": {
    "name": "ipython",
    "version": 3
   },
   "file_extension": ".py",
   "mimetype": "text/x-python",
   "name": "python",
   "nbconvert_exporter": "python",
   "pygments_lexer": "ipython3",
   "version": "3.8.10"
  }
 },
 "nbformat": 4,
 "nbformat_minor": 2
}
